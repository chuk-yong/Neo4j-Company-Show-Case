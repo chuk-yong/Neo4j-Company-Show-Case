{
  "nbformat": 4,
  "nbformat_minor": 0,
  "metadata": {
    "colab": {
      "name": "Neo4j-Aura-Company-Showcase.ipynb",
      "provenance": [],
      "mount_file_id": "1e4dLeMAT1_bHl3cRpqKaKesIUkKpdiJ-",
      "authorship_tag": "ABX9TyOFCDoxUHYR/pab55YaS4jo",
      "include_colab_link": true
    },
    "kernelspec": {
      "name": "python3",
      "display_name": "Python 3"
    },
    "language_info": {
      "name": "python"
    }
  },
  "cells": [
    {
      "cell_type": "markdown",
      "metadata": {
        "id": "view-in-github",
        "colab_type": "text"
      },
      "source": [
        "<a href=\"https://colab.research.google.com/github/chuk-yong/Neo4j-Company-Show-Case/blob/main/Neo4j_Aura_Company_Showcase.ipynb\" target=\"_parent\"><img src=\"https://colab.research.google.com/assets/colab-badge.svg\" alt=\"Open In Colab\"/></a>"
      ]
    },
    {
      "cell_type": "markdown",
      "source": [
        "# Using Neo4j Aura\n",
        "Aura uses AWS for hosting.  Otherwise, interface is similar to using sandbox.\n"
      ],
      "metadata": {
        "id": "XFJ1nYSn0ICH"
      }
    },
    {
      "cell_type": "code",
      "execution_count": 1,
      "metadata": {
        "colab": {
          "base_uri": "https://localhost:8080/"
        },
        "id": "dDhMDSs4wdyo",
        "outputId": "34169823-11b7-42bc-a174-ce9fbd5b0152"
      },
      "outputs": [
        {
          "output_type": "stream",
          "name": "stdout",
          "text": [
            "Collecting neo4j\n",
            "  Downloading neo4j-4.4.1.tar.gz (89 kB)\n",
            "\u001b[?25l\r\u001b[K     |███▊                            | 10 kB 22.9 MB/s eta 0:00:01\r\u001b[K     |███████▍                        | 20 kB 27.5 MB/s eta 0:00:01\r\u001b[K     |███████████                     | 30 kB 16.4 MB/s eta 0:00:01\r\u001b[K     |██████████████▊                 | 40 kB 12.0 MB/s eta 0:00:01\r\u001b[K     |██████████████████▍             | 51 kB 5.4 MB/s eta 0:00:01\r\u001b[K     |██████████████████████          | 61 kB 6.4 MB/s eta 0:00:01\r\u001b[K     |█████████████████████████▊      | 71 kB 6.2 MB/s eta 0:00:01\r\u001b[K     |█████████████████████████████▍  | 81 kB 6.4 MB/s eta 0:00:01\r\u001b[K     |████████████████████████████████| 89 kB 3.9 MB/s \n",
            "\u001b[?25hRequirement already satisfied: pytz in /usr/local/lib/python3.7/dist-packages (from neo4j) (2018.9)\n",
            "Building wheels for collected packages: neo4j\n",
            "  Building wheel for neo4j (setup.py) ... \u001b[?25l\u001b[?25hdone\n",
            "  Created wheel for neo4j: filename=neo4j-4.4.1-py3-none-any.whl size=114783 sha256=7cde1093406d2015cb46d69f8a4ce187b2c3682961e3158e5d569528fcd7dd44\n",
            "  Stored in directory: /root/.cache/pip/wheels/fd/15/02/8379f87426cd1b74fd5891f49df9fb978423feb97650cd639b\n",
            "Successfully built neo4j\n",
            "Installing collected packages: neo4j\n",
            "Successfully installed neo4j-4.4.1\n"
          ]
        }
      ],
      "source": [
        "!pip install neo4j"
      ]
    },
    {
      "cell_type": "code",
      "source": [
        "from neo4j import GraphDatabase\n",
        "uri = \"neo4j+s://712b29da.databases.neo4j.io:7687\"\n",
        "user = \"neo4j\"\n",
        "password = \"cQR5pHLeY7umPm9MGM3gjshjL_VFqYi8V_1x7fA6Rlc\"\n",
        "driver = GraphDatabase.driver(uri, auth=(user, password))\n",
        "session = driver.session()"
      ],
      "metadata": {
        "id": "rgwj2ZHTwufN"
      },
      "execution_count": 2,
      "outputs": []
    },
    {
      "cell_type": "code",
      "source": [
        "# remember to mount google drive\n",
        "import pandas as pd\n",
        "df = pd.read_csv(\"/content/drive/MyDrive/Colab Notebooks/Neo4j/Dept-Person-Role.csv\")"
      ],
      "metadata": {
        "id": "2jvvWYKYy3Nn"
      },
      "execution_count": 4,
      "outputs": []
    },
    {
      "cell_type": "code",
      "source": [
        "#C1='CREATE (p:Person {[Name:df[row.Index][\"Person\"], Role=df[row.Index][\"Role]})-[:belongtoDept]->(d:Department [Name:df[row.Index][\"Department])' # use single quote\n",
        "for row in df.itertuples():\n",
        "  C1='CREATE (p:Person {Name:\"' + row.Person +'\", Role:\"' + row.Role + '\"})-[:belongtoDept]->(d:Department {Name:\"' + row.Department +'\"})'\n",
        "  print(C1)\n",
        "  session.run(C1)"
      ],
      "metadata": {
        "colab": {
          "base_uri": "https://localhost:8080/"
        },
        "id": "TOJ959EczGrE",
        "outputId": "8a549bd8-aad8-4d68-c656-189dd5cb78fa"
      },
      "execution_count": 5,
      "outputs": [
        {
          "output_type": "stream",
          "name": "stdout",
          "text": [
            "CREATE (p:Person {Name:\"Gerard\", Role:\"Head\"})-[:belongtoDept]->(d:Department {Name:\"HR\"})\n",
            "CREATE (p:Person {Name:\"Rachel\", Role:\"Team Member\"})-[:belongtoDept]->(d:Department {Name:\"HR\"})\n",
            "CREATE (p:Person {Name:\"Lee\", Role:\"Team Member\"})-[:belongtoDept]->(d:Department {Name:\"HR\"})\n",
            "CREATE (p:Person {Name:\"Jocelyn\", Role:\"Head\"})-[:belongtoDept]->(d:Department {Name:\"FIN\"})\n",
            "CREATE (p:Person {Name:\"Dorothy\", Role:\"Team Member\"})-[:belongtoDept]->(d:Department {Name:\"LOB\"})\n",
            "CREATE (p:Person {Name:\"Albert\", Role:\"Team Member\"})-[:belongtoDept]->(d:Department {Name:\"LOB\"})\n"
          ]
        }
      ]
    },
    {
      "cell_type": "code",
      "source": [
        "# Create Approver\n",
        "app = pd.read_csv(\"/content/drive/MyDrive/Colab Notebooks/Neo4j/Approver-Person.csv\")\n",
        "def approval_of(tx, name, approver):\n",
        "    tx.run(\"MATCH (a:Person) WHERE a.Name = $name \"\n",
        "           \"MERGE (a)-[:seekApproval]->(:Approver {Name: $approver})\",\n",
        "           name=name, approver=approver)\n",
        "\n",
        "for row in app.itertuples():\n",
        "  with session as sess:\n",
        "      sess.write_transaction(approval_of, row.Person, row.Approver)"
      ],
      "metadata": {
        "id": "FSeMjHHIz0s4"
      },
      "execution_count": 6,
      "outputs": []
    },
    {
      "cell_type": "code",
      "source": [
        "# Create Case\n",
        "case = pd.read_csv(\"/content/drive/MyDrive/Colab Notebooks/Neo4j/Person-CaseID-Desc.csv\")\n",
        "def has_case(tx, name, caseID, desc):\n",
        "    tx.run(\"MATCH (a:Person) WHERE a.Name = $name \"\n",
        "           \"MERGE (a)-[:hasCase]->(:Case {CaseID: $caseID,CaseDescription: $desc})\",\n",
        "           name=name, caseID=caseID, desc=desc)\n",
        "\n",
        "for row in case.itertuples():\n",
        "  with session as sess:\n",
        "    sess.write_transaction(has_case, row.Person, row.CaseID, row.CaseDescription)"
      ],
      "metadata": {
        "id": "7yrRs5QH0sni"
      },
      "execution_count": 7,
      "outputs": []
    },
    {
      "cell_type": "code",
      "source": [
        "# Create Action\n",
        "action = pd.read_csv(\"/content/drive/MyDrive/Colab Notebooks/Neo4j/CaseID-Action-Status.csv\")\n",
        "def has_action(tx, case, action, status):\n",
        "    tx.run(\"MATCH (a:Case) WHERE a.CaseID = $case \"\n",
        "           \"MERGE (a)-[:hasAction]->(:Action {Action: $action, Status: $status})\",\n",
        "           case=case, action=action, status=status)\n",
        "\n",
        "for row in action.itertuples():\n",
        "  with session as sess:\n",
        "    sess.write_transaction(has_action, row.CaseID, row.Action, row.Status)"
      ],
      "metadata": {
        "id": "gVZSIg6O02rQ"
      },
      "execution_count": 8,
      "outputs": []
    },
    {
      "cell_type": "markdown",
      "source": [
        "## Queries"
      ],
      "metadata": {
        "id": "m8tzyKO51BH_"
      }
    },
    {
      "cell_type": "code",
      "source": [
        "# Query headcount.  How many people are there in LOB department?\n",
        "q = 'match (n:Department) where n.Name = \"LOB\" return count(n)'\n",
        "nodes = session.run(q)\n",
        "results = [record for record in nodes.data()]\n",
        "print(results)"
      ],
      "metadata": {
        "colab": {
          "base_uri": "https://localhost:8080/"
        },
        "id": "854AoVy_1DOg",
        "outputId": "fb54cd56-123a-4292-8d49-adbbf4707eb2"
      },
      "execution_count": 9,
      "outputs": [
        {
          "output_type": "stream",
          "name": "stdout",
          "text": [
            "[{'count(n)': 2}]\n"
          ]
        }
      ]
    },
    {
      "cell_type": "code",
      "source": [
        "# Query case count by department. How many case load are there for HR department?\n",
        "q = 'match ()<-[:hasCase]-(n:Person)-[:belongtoDept]->(Department {Name:\"HR\"}) return count(distinct n)'\n",
        "nodes = session.run(q)\n",
        "results = [record for record in nodes.data()]\n",
        "print(results)"
      ],
      "metadata": {
        "colab": {
          "base_uri": "https://localhost:8080/"
        },
        "id": "_MOCqJVz1JlJ",
        "outputId": "8910f953-d7ee-4bd4-970f-a983dba3956a"
      },
      "execution_count": 10,
      "outputs": [
        {
          "output_type": "stream",
          "name": "stdout",
          "text": [
            "[{'count(distinct n)': 2}]\n"
          ]
        }
      ]
    },
    {
      "cell_type": "code",
      "source": [
        "# approval office.  Who is Rachel's Boss?\n",
        "q = 'match (Person {Name:\"Rachel\"})-[:seekApproval]->(a:Approver) return a.Name'\n",
        "nodes = session.run(q)\n",
        "results = [record for record in nodes.data()]\n",
        "print(results) # Rachel has no approver"
      ],
      "metadata": {
        "colab": {
          "base_uri": "https://localhost:8080/"
        },
        "id": "kHdEK5lg1Oz6",
        "outputId": "8e29c4cd-8fa2-4d3c-8e77-3eb224f4dfce"
      },
      "execution_count": 11,
      "outputs": [
        {
          "output_type": "stream",
          "name": "stdout",
          "text": [
            "[]\n"
          ]
        }
      ]
    },
    {
      "cell_type": "code",
      "source": [
        "# Alternative, Who is the head of Rachel's department\n",
        "q = 'match (Person {Name:\"Rachel\"})-[:belongtoDept]->(d:Department) with d.Name as dept match (p:Person {Role:\"Head\"})-[belongtoDept]->(Department {Name:dept}) return p.Name'\n",
        "nodes = session.run(q)\n",
        "results = [record for record in nodes.data()]\n",
        "print(results)"
      ],
      "metadata": {
        "colab": {
          "base_uri": "https://localhost:8080/"
        },
        "id": "Sf0CxwLu1Utw",
        "outputId": "b1346bf4-15af-478e-fe35-2d00bbcb2952"
      },
      "execution_count": 12,
      "outputs": [
        {
          "output_type": "stream",
          "name": "stdout",
          "text": [
            "[{'p.Name': 'Gerard'}]\n"
          ]
        }
      ]
    },
    {
      "cell_type": "markdown",
      "source": [
        "## Writing tx.run\n",
        "* white space at the end of sentence except the last\n",
        "* need to pass the variable into tx.run again"
      ],
      "metadata": {
        "id": "WT2pZGpP8y1k"
      }
    },
    {
      "cell_type": "code",
      "source": [
        "def count_action(tx, dept):\n",
        "    query = (\n",
        "        \"MATCH (p:Person)-[:belongtoDept]->(d:Department {Name:$dept}) \"\n",
        "        \"WITH p.Name AS name \"\n",
        "        \"Match (Person {Name:name})-[:hasCase]->(c:Case) \"       \n",
        "        \"WITH c.CaseID AS id \"\n",
        "        \"Match (Case {CaseID:id})-[:hasAction]->(act:Action) \"\n",
        "        \"WITH apoc.agg.maxItems(act, act.Action) AS result \"\n",
        "        \"RETURN result.items AS action result.value AS count\"\n",
        "    )\n",
        "    q = (\n",
        "        \"MATCH (p:Person)-[:belongtoDept]->(d:Department {Name:$dept}) \"\n",
        "        \"WITH p.Name AS name \"\n",
        "        \"Match (Person {Name:name})-[:hasCase]->(c:Case) \"       \n",
        "        \"WITH c.CaseID AS id \"\n",
        "        \"Match (Case {CaseID:id})-[:hasAction]->(act:Action) \"\n",
        "        \"RETURN act.Action\"\n",
        "    )  \n",
        "    result = tx.run(q, dept=dept)\n",
        "    lines = [record for record in result]\n",
        "    print(lines)\n",
        "    \n",
        "\n",
        "with session as sess:\n",
        "  sess.write_transaction(count_action, \"HR\")"
      ],
      "metadata": {
        "colab": {
          "base_uri": "https://localhost:8080/"
        },
        "id": "moIPMpTL2LNi",
        "outputId": "ba5642d5-ed99-4a7f-acf3-e14ae3e9e4e6"
      },
      "execution_count": 37,
      "outputs": [
        {
          "output_type": "stream",
          "name": "stdout",
          "text": [
            "[<Record act.Action='Find Resource'>, <Record act.Action='Brand Marketing'>, <Record act.Action='Find Resource'>]\n"
          ]
        }
      ]
    }
  ]
}